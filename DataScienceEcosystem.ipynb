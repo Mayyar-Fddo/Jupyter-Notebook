{
 "cells": [
  {
   "cell_type": "markdown",
   "id": "5177ca39-cc91-4483-a7cc-d55b239da6ca",
   "metadata": {},
   "source": [
    "# Data Science Tools and Ecosystem"
   ]
  },
  {
   "cell_type": "markdown",
   "id": "fb8d1050-d193-46ff-8e20-161f03e0e3bc",
   "metadata": {},
   "source": [
    "In this notebook, Data Science Tools and Ecosystem are summarized."
   ]
  },
  {
   "cell_type": "markdown",
   "id": "0e38f9d4-4920-4607-94a0-635fffcb16f0",
   "metadata": {},
   "source": [
    "**Objectives:** \n",
    "* List popular languages for Data Science\n",
    "* List some of the commonly used libraries used by Data Scientists\n",
    "* Mention a few examples of evaluating arithmetic expressions\n"
   ]
  },
  {
   "cell_type": "markdown",
   "id": "25ed553b-607a-4693-8218-b4ef61ab30e7",
   "metadata": {},
   "source": [
    "Some of the popular languages that Data Scientists use are:\n",
    "\n",
    "* R Language\n",
    "* Python\n",
    "* SQL\n",
    "* Java"
   ]
  },
  {
   "cell_type": "markdown",
   "id": "1d3a5852-57a2-4718-a928-10eb0aab0f7f",
   "metadata": {},
   "source": [
    "Some of the commonly used libraries used by Data Scientists include:\n",
    "\n",
    "* **NumPy:** The NumPy library focuses on mathematical capabilities and serves as the base for various other Python libraries for data science.\n",
    "* **Matplotlib:** As a data scientist, you frequently create visualizations to showcase important data to key stakeholders and contribute to decision-making.\n",
    "* **Pandas:** Pandas allows you to conduct data analysis, manipulation, and cleansing on your data set.\n",
    "* **SciPy:** The SciPy Python data science library excels in data optimization and integration.\n",
    "* **PyTorch:** PyTorch delves into the topics of machine learning and deep learning by providing a foundation to create advanced models in machine learning efficiently.\n",
    "* **Seaborn:** Alongside Matplotlib, Seaborn is another popular data visualization library for Python."
   ]
  },
  {
   "cell_type": "markdown",
   "id": "f1f20156-c6b7-4be8-b970-3b60f03d8c43",
   "metadata": {},
   "source": [
    "|Data Science Tools|Name|\n",
    "|:-----------------|:-------------------|\n",
    "|Programming Languages|Python,R,SQL|\n",
    "|Data Visualization Tools|Matplotlib,Seaborn,Tableau,Power BI|\n",
    "|Integrated Development Environments (IDEs)|Jupyter Notebook,RStudio,Visual Studio Code|"
   ]
  },
  {
   "cell_type": "markdown",
   "id": "9593354d-361e-40e3-809d-966e73038b19",
   "metadata": {},
   "source": [
    "### Below are a few examples of evaluating arithmetic expressions in Python"
   ]
  },
  {
   "cell_type": "code",
   "execution_count": 2,
   "id": "c1984882-1b52-47ac-b96e-5ee4a059cd45",
   "metadata": {},
   "outputs": [
    {
     "data": {
      "text/plain": [
       "17"
      ]
     },
     "execution_count": 2,
     "metadata": {},
     "output_type": "execute_result"
    }
   ],
   "source": [
    "# This a simple arithmetic expression to mutiply then add integers\n",
    "(3*4)+5"
   ]
  },
  {
   "cell_type": "code",
   "execution_count": 5,
   "id": "67279f7f-8fac-4d31-a65b-28a0c79c548c",
   "metadata": {},
   "outputs": [
    {
     "name": "stdout",
     "output_type": "stream",
     "text": [
      "3 : 20\n"
     ]
    }
   ],
   "source": [
    "# This will convert 200 minutes to hours by diving by 60\n",
    "minutes = 200\n",
    "h = minutes // 60\n",
    "m = minutes % 60\n",
    "print(h,':',m)"
   ]
  },
  {
   "cell_type": "markdown",
   "id": "fa607589-9579-46b5-b43b-db9384fbb8f0",
   "metadata": {},
   "source": [
    "## Author\n",
    "MHD Mayyar Fddo"
   ]
  },
  {
   "cell_type": "code",
   "execution_count": null,
   "id": "eee1501f-4990-4d81-a8d9-789a4b6f9b14",
   "metadata": {},
   "outputs": [],
   "source": []
  }
 ],
 "metadata": {
  "kernelspec": {
   "display_name": "Python 3 (ipykernel)",
   "language": "python",
   "name": "python3"
  },
  "language_info": {
   "codemirror_mode": {
    "name": "ipython",
    "version": 3
   },
   "file_extension": ".py",
   "mimetype": "text/x-python",
   "name": "python",
   "nbconvert_exporter": "python",
   "pygments_lexer": "ipython3",
   "version": "3.12.5"
  }
 },
 "nbformat": 4,
 "nbformat_minor": 5
}
